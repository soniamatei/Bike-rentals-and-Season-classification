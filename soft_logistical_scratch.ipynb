{
 "cells": [
  {
   "cell_type": "code",
   "execution_count": 1,
   "metadata": {},
   "outputs": [],
   "source": [
    "import pandas as pd\n",
    "import numpy as np\n",
    "from matplotlib import pyplot as plt\n",
    "from sklearn.model_selection import train_test_split\n",
    "from sklearn.preprocessing import StandardScaler, LabelEncoder\n",
    "from sklearn.metrics import accuracy_score\n",
    "from lime.lime_tabular import LimeTabularExplainer\n",
    "import seaborn as sns"
   ]
  },
  {
   "cell_type": "code",
   "execution_count": 2,
   "metadata": {},
   "outputs": [
    {
     "name": "stdout",
     "output_type": "stream",
     "text": [
      "Data Shape: (731, 16)\n",
      "<class 'pandas.core.frame.DataFrame'>\n",
      "RangeIndex: 731 entries, 0 to 730\n",
      "Data columns (total 16 columns):\n",
      " #   Column      Non-Null Count  Dtype  \n",
      "---  ------      --------------  -----  \n",
      " 0   instant     731 non-null    int64  \n",
      " 1   dteday      731 non-null    object \n",
      " 2   season      731 non-null    int64  \n",
      " 3   yr          731 non-null    int64  \n",
      " 4   mnth        731 non-null    int64  \n",
      " 5   holiday     731 non-null    int64  \n",
      " 6   weekday     731 non-null    int64  \n",
      " 7   workingday  731 non-null    int64  \n",
      " 8   weathersit  731 non-null    int64  \n",
      " 9   temp        731 non-null    float64\n",
      " 10  atemp       731 non-null    float64\n",
      " 11  hum         731 non-null    float64\n",
      " 12  windspeed   731 non-null    float64\n",
      " 13  casual      731 non-null    int64  \n",
      " 14  registered  731 non-null    int64  \n",
      " 15  cnt         731 non-null    int64  \n",
      "dtypes: float64(4), int64(11), object(1)\n",
      "memory usage: 91.5+ KB\n",
      "Data Info:\n",
      " None\n",
      "Missing Values:\n",
      " instant       0\n",
      "dteday        0\n",
      "season        0\n",
      "yr            0\n",
      "mnth          0\n",
      "holiday       0\n",
      "weekday       0\n",
      "workingday    0\n",
      "weathersit    0\n",
      "temp          0\n",
      "atemp         0\n",
      "hum           0\n",
      "windspeed     0\n",
      "casual        0\n",
      "registered    0\n",
      "cnt           0\n",
      "dtype: int64\n",
      "Unique values in 'season': [1 2 3 4]\n",
      "Training set shape: (584, 8)\n",
      "Testing set shape: (147, 8)\n"
     ]
    }
   ],
   "source": [
    "#  Load the dataset\n",
    "data = pd.read_csv('day.csv')\n",
    "\n",
    "#  Explore the data\n",
    "print(\"Data Shape:\", data.shape)\n",
    "print(\"Data Info:\\n\", data.info())\n",
    "print(\"Missing Values:\\n\", data.isnull().sum())\n",
    "print(\"Unique values in 'season':\", data['season'].unique())\n",
    "\n",
    "#  Encode the target variable ('season')\n",
    "label_encoder = LabelEncoder()\n",
    "data['season'] = label_encoder.fit_transform(data['season'])  # Encodes 1-4 to 0-3\n",
    "\n",
    "#  Select relevant features\n",
    "features = ['temp', 'hum', 'windspeed', 'holiday', 'weathersit', 'yr', 'weekday', 'cnt']\n",
    "X = data[features]\n",
    "y = data['season']\n",
    "\n",
    "#  Normalize/Scale features\n",
    "scaler = StandardScaler()\n",
    "X_scaled = scaler.fit_transform(X)\n",
    "\n",
    "#  Split the data into training and testing sets\n",
    "X_train, X_test, y_train, y_test = train_test_split(X_scaled, y, test_size=0.2, random_state=42, stratify=y)\n",
    "\n",
    "print(\"Training set shape:\", X_train.shape)\n",
    "print(\"Testing set shape:\", X_test.shape)\n"
   ]
  },
  {
   "cell_type": "code",
   "execution_count": 3,
   "metadata": {},
   "outputs": [],
   "source": [
    "#  Softmax function\n",
    "\n",
    "def softmax(z):\n",
    "    exp_z = np.exp(z - np.max(z, axis=1, keepdims=True))  # Stability fix\n",
    "    return exp_z / np.sum(exp_z, axis=1, keepdims=True)"
   ]
  },
  {
   "cell_type": "code",
   "execution_count": 4,
   "metadata": {},
   "outputs": [],
   "source": [
    "#  Cross-Entropy Loss\n",
    "def cross_entropy_loss(y_true, y_pred):\n",
    "    n_samples = y_true.shape[0]\n",
    "    logp = -np.log(y_pred[range(n_samples), y_true])\n",
    "    return np.sum(logp) / n_samples\n",
    "\n",
    "#  One-Hot Encoding for labels\n",
    "def one_hot_encode(y, num_classes):\n",
    "    one_hot = np.zeros((y.size, num_classes))\n",
    "    one_hot[np.arange(y.size), y] = 1\n",
    "    return one_hot"
   ]
  },
  {
   "cell_type": "code",
   "execution_count": 5,
   "metadata": {},
   "outputs": [],
   "source": [
    "# Training the Multiclass Logistic Regression model\n",
    "def LogisticRegressionScratch(X, y, num_classes, lr=0.01, epochs=1000):\n",
    "    n_samples, n_features = X.shape\n",
    "    W = np.zeros((n_features, num_classes))\n",
    "    b = np.zeros((1, num_classes))\n",
    "\n",
    "    y_one_hot = one_hot_encode(y, num_classes)\n",
    "    losses = []\n",
    "\n",
    "    for i in range(epochs):\n",
    "        # Forward pass\n",
    "        logits = np.dot(X, W) + b\n",
    "        y_pred = softmax(logits)\n",
    "        \n",
    "        # Loss calculation\n",
    "        loss = cross_entropy_loss(y, y_pred)\n",
    "        losses.append(loss)\n",
    "        \n",
    "        # Backward pass\n",
    "        dw = (1 / n_samples) * np.dot(X.T, (y_pred - y_one_hot))\n",
    "        db = (1 / n_samples) * np.sum(y_pred - y_one_hot, axis=0, keepdims=True)\n",
    "        \n",
    "        # Update weights\n",
    "        W -= lr * dw\n",
    "        b -= lr * db\n",
    "        \n",
    "        # Print loss every 100 epochs\n",
    "        if i % 100 == 0:\n",
    "            print(f\"Epoch {i}, Loss: {loss:.4f}\")\n",
    "    \n",
    "    return W, b, losses"
   ]
  },
  {
   "cell_type": "code",
   "execution_count": 6,
   "metadata": {},
   "outputs": [],
   "source": [
    "#  Prediction\n",
    "def predict(X, W, b):\n",
    "    logits = np.dot(X, W) + b\n",
    "    y_prob = softmax(logits)  # Probabilities for each class\n",
    "    y_pred = np.argmax(y_prob, axis=1)  # Predicted classes\n",
    "    return y_pred, y_prob  # Returns both predicted classes and probabilities\n"
   ]
  },
  {
   "cell_type": "markdown",
   "metadata": {},
   "source": [
    "# 📊 Explanation of Logistic Regression Scratch Implementation\n",
    "\n",
    "This section explains the step-by-step implementation of Logistic Regression from scratch.\n",
    "\n",
    "1. **Softmax Function:**\n",
    "   - Converts logits (raw scores) into probabilities.\n",
    "   - Formula: \n",
    "     $$\n",
    "     \\text{softmax}(z_i) = \\frac{e^{z_i}}{\\sum_{j} e^{z_j}}\n",
    "     $$\n",
    "   - Stability fix: Subtracting the max value in logits to prevent overflow.\n",
    "\n",
    "2. **Cross-Entropy Loss:**\n",
    "   - Measures how far the predicted probabilities are from the true labels.\n",
    "   - Formula: \n",
    "     $$\n",
    "     L = -\\frac{1}{N} \\sum_{i=1}^N \\log(p_{y_i})\n",
    "     $$\n",
    "   - Where \\( p_{y_i} \\) is the predicted probability of the correct class.\n",
    "\n",
    "3. **One-Hot Encoding:**\n",
    "   - Converts class labels into one-hot vectors for multiclass classification.\n",
    "   - Example: For class 2 in 4 classes → [0, 0, 1, 0].\n",
    "\n",
    "4. **Training Process (Gradient Descent):**\n",
    "   - Initializes weights and biases to zero.\n",
    "   - Performs forward pass: logits → softmax → loss.\n",
    "   - Performs backward pass: Computes gradients and updates weights.\n",
    "   - Updates continue for a fixed number of epochs.\n",
    "   - Gradient formulas:\n",
    "     $$\n",
    "     \\frac{\\partial L}{\\partial W} = \\frac{1}{N} X^T (\\hat{Y} - Y) \\\\\n",
    "     \\frac{\\partial L}{\\partial b} = \\frac{1}{N} \\sum (\\hat{Y} - Y)\n",
    "     $$\n",
    "\n",
    "5. **Prediction:**\n",
    "   - Uses the trained weights and biases to make predictions.\n",
    "   - Applies softmax to obtain probabilities and selects the class with the highest probability."
   ]
  },
  {
   "cell_type": "code",
   "execution_count": 7,
   "metadata": {},
   "outputs": [
    {
     "name": "stdout",
     "output_type": "stream",
     "text": [
      "Epoch 0, Loss: 1.3863\n",
      "Epoch 100, Loss: 1.1829\n",
      "Epoch 200, Loss: 1.0830\n",
      "Epoch 300, Loss: 1.0243\n",
      "Epoch 400, Loss: 0.9846\n",
      "Epoch 500, Loss: 0.9551\n",
      "Epoch 600, Loss: 0.9319\n",
      "Epoch 700, Loss: 0.9129\n",
      "Epoch 800, Loss: 0.8970\n",
      "Epoch 900, Loss: 0.8834\n",
      "Training Accuracy: 0.6523972602739726\n",
      "Testing Accuracy: 0.6462585034013606\n"
     ]
    }
   ],
   "source": [
    "#  Model Training\n",
    "num_classes = len(np.unique(y_train))\n",
    "W, b, losses = LogisticRegressionScratch(X_train, y_train.values, num_classes, lr=0.01, epochs=1000)\n",
    "\n",
    "\n",
    "#  Model Evaluation\n",
    "\n",
    "y_pred_train, y_prob_train = predict(X_train, W, b)\n",
    "y_pred_test, y_prob_test = predict(X_test, W, b)\n",
    "\n",
    "print(\"Training Accuracy:\", accuracy_score(y_train, y_pred_train))\n",
    "print(\"Testing Accuracy:\", accuracy_score(y_test, y_pred_test))"
   ]
  },
  {
   "cell_type": "code",
   "execution_count": 8,
   "metadata": {},
   "outputs": [
    {
     "data": {
      "image/png": "[encoded data removed]",
      "text/plain": [
       "<Figure size 800x500 with 1 Axes>"
      ]
     },
     "metadata": {},
     "output_type": "display_data"
    }
   ],
   "source": [
    "# Plot training loss over epochs\n",
    "\n",
    "plt.figure(figsize=(8, 5))\n",
    "plt.plot(range(1, len(losses) + 1), losses, label='Training Loss')\n",
    "plt.xlabel('Epochs')\n",
    "plt.ylabel('Loss')\n",
    "plt.title('Training Loss Over Epochs')\n",
    "plt.legend()\n",
    "plt.show()"
   ]
  },
  {
   "cell_type": "code",
   "execution_count": 9,
   "metadata": {},
   "outputs": [],
   "source": [
    "# Accuracy from Scratch\n",
    "def accuracy_score_scratch(y_true, y_pred):\n",
    "    correct_predictions = np.sum(y_true == y_pred)\n",
    "    return correct_predictions / len(y_true)\n"
   ]
  },
  {
   "cell_type": "code",
   "execution_count": 10,
   "metadata": {},
   "outputs": [
    {
     "name": "stdout",
     "output_type": "stream",
     "text": [
      "\n",
      "Training Accuracy (Scratch): 0.6524\n",
      "Testing Accuracy (Scratch): 0.6463\n"
     ]
    }
   ],
   "source": [
    "# Compute and print accuracy\n",
    "train_accuracy = accuracy_score_scratch(y_train.values, y_pred_train)\n",
    "test_accuracy = accuracy_score_scratch(y_test.values, y_pred_test)\n",
    "\n",
    "print(f\"\\nTraining Accuracy (Scratch): {train_accuracy:.4f}\")\n",
    "print(f\"Testing Accuracy (Scratch): {test_accuracy:.4f}\")"
   ]
  },
  {
   "cell_type": "code",
   "execution_count": 11,
   "metadata": {},
   "outputs": [],
   "source": [
    "# Precision from Scratch\n",
    "def precision_score_scratch(y_true, y_pred):\n",
    "    num_classes = len(np.unique(y_true))\n",
    "    precision_per_class = []\n",
    "    for cls in range(num_classes):\n",
    "        true_positive = np.sum((y_pred == cls) & (y_true == cls))\n",
    "        predicted_positive = np.sum(y_pred == cls)\n",
    "        precision = true_positive / predicted_positive if predicted_positive != 0 else 0\n",
    "        precision_per_class.append(precision)\n",
    "    return np.mean(precision_per_class)\n"
   ]
  },
  {
   "cell_type": "code",
   "execution_count": 12,
   "metadata": {},
   "outputs": [
    {
     "name": "stdout",
     "output_type": "stream",
     "text": [
      "Training Precision (Scratch): 0.6368\n",
      "Testing Precision (Scratch): 0.6248\n"
     ]
    }
   ],
   "source": [
    "# Compute and print precision\n",
    "train_precision = precision_score_scratch(y_train.values, y_pred_train)\n",
    "test_precision = precision_score_scratch(y_test.values, y_pred_test)\n",
    "\n",
    "print(f\"Training Precision (Scratch): {train_precision:.4f}\")\n",
    "print(f\"Testing Precision (Scratch): {test_precision:.4f}\")\n"
   ]
  },
  {
   "cell_type": "code",
   "execution_count": 13,
   "metadata": {},
   "outputs": [],
   "source": [
    "#  Recall (Sensitivity) from Scratch\n",
    "def recall_score_scratch(y_true, y_pred):\n",
    "    num_classes = len(np.unique(y_true))\n",
    "    recall_per_class = []\n",
    "    for cls in range(num_classes):\n",
    "        true_positive = np.sum((y_pred == cls) & (y_true == cls))\n",
    "        actual_positive = np.sum(y_true == cls)\n",
    "        recall = true_positive / actual_positive if actual_positive != 0 else 0\n",
    "        recall_per_class.append(recall)\n",
    "    return np.mean(recall_per_class)"
   ]
  },
  {
   "cell_type": "code",
   "execution_count": 14,
   "metadata": {},
   "outputs": [
    {
     "name": "stdout",
     "output_type": "stream",
     "text": [
      "Training Recall (Scratch): 0.6505\n",
      "Testing Recall (Scratch): 0.6447\n"
     ]
    }
   ],
   "source": [
    "# Compute and print recall\n",
    "train_recall = recall_score_scratch(y_train.values, y_pred_train)\n",
    "test_recall = recall_score_scratch(y_test.values, y_pred_test)\n",
    "\n",
    "print(f\"Training Recall (Scratch): {train_recall:.4f}\")\n",
    "print(f\"Testing Recall (Scratch): {test_recall:.4f}\")\n"
   ]
  },
  {
   "cell_type": "code",
   "execution_count": 15,
   "metadata": {},
   "outputs": [],
   "source": [
    "# F1-Score (F-Measure) from Scratch\n",
    "def f1_score_scratch(y_true, y_pred):\n",
    "    precision = precision_score_scratch(y_true, y_pred)\n",
    "    recall = recall_score_scratch(y_true, y_pred)\n",
    "    return 2 * (precision * recall) / (precision + recall) if (precision + recall) != 0 else 0\n"
   ]
  },
  {
   "cell_type": "code",
   "execution_count": 16,
   "metadata": {},
   "outputs": [
    {
     "name": "stdout",
     "output_type": "stream",
     "text": [
      "Training F1-Score (Scratch): 0.6436\n",
      "Testing F1-Score (Scratch): 0.6346\n"
     ]
    }
   ],
   "source": [
    "train_f1 = f1_score_scratch(y_train.values, y_pred_train)\n",
    "test_f1 = f1_score_scratch(y_test.values, y_pred_test)\n",
    "\n",
    "print(f\"Training F1-Score (Scratch): {train_f1:.4f}\")\n",
    "print(f\"Testing F1-Score (Scratch): {test_f1:.4f}\")\n"
   ]
  },
  {
   "cell_type": "code",
   "execution_count": 17,
   "metadata": {},
   "outputs": [],
   "source": [
    "#  AUC (ROC) from Scratch\n",
    "def auc_score_scratch(y_true, y_prob, num_classes):\n",
    "    auc_per_class = []\n",
    "    for cls in range(num_classes):\n",
    "        # Binarize the true labels\n",
    "        binary_true = (y_true == cls).astype(int)\n",
    "        binary_prob = y_prob[:, cls]\n",
    "        \n",
    "        # Sort probabilities and corresponding true labels\n",
    "        sorted_indices = np.argsort(-binary_prob)\n",
    "        binary_true = binary_true[sorted_indices]\n",
    "        binary_prob = binary_prob[sorted_indices]\n",
    "        \n",
    "        # Compute TPR and FPR\n",
    "        tp = np.cumsum(binary_true)\n",
    "        fp = np.cumsum(1 - binary_true)\n",
    "        tpr = tp / tp[-1] if tp[-1] != 0 else np.zeros_like(tp)\n",
    "        fpr = fp / fp[-1] if fp[-1] != 0 else np.zeros_like(fp)\n",
    "        \n",
    "        # Calculate AUC using trapezoidal rule\n",
    "        auc = np.trapezoid(tpr, fpr)\n",
    "        auc_per_class.append(auc)\n",
    "    \n",
    "    return np.mean(auc_per_class)"
   ]
  },
  {
   "cell_type": "code",
   "execution_count": 18,
   "metadata": {},
   "outputs": [
    {
     "name": "stdout",
     "output_type": "stream",
     "text": [
      "Training AUC (Scratch): 0.8759\n",
      "Testing AUC (Scratch): 0.8706\n"
     ]
    }
   ],
   "source": [
    "train_auc = auc_score_scratch(y_train.values, y_prob_train, num_classes)\n",
    "test_auc = auc_score_scratch(y_test.values, y_prob_test, num_classes)\n",
    "\n",
    "print(f\"Training AUC (Scratch): {train_auc:.4f}\")\n",
    "print(f\"Testing AUC (Scratch): {test_auc:.4f}\")"
   ]
  },
  {
   "cell_type": "code",
   "execution_count": 19,
   "metadata": {},
   "outputs": [],
   "source": [
    "#  AUPRC (Area Under the Precision-Recall Curve) from Scratch\n",
    "def auprc_score_scratch(y_true, y_prob, num_classes):\n",
    "    auprc_per_class = []\n",
    "    for cls in range(num_classes):\n",
    "        # Binarize the true labels\n",
    "        binary_true = (y_true == cls).astype(int)\n",
    "        binary_prob = y_prob[:, cls]\n",
    "        \n",
    "        # Sort probabilities and corresponding true labels\n",
    "        sorted_indices = np.argsort(-binary_prob)\n",
    "        binary_true = binary_true[sorted_indices]\n",
    "        binary_prob = binary_prob[sorted_indices]\n",
    "        \n",
    "        # Compute Precision and Recall\n",
    "        tp = np.cumsum(binary_true)\n",
    "        fp = np.cumsum(1 - binary_true)\n",
    "        precision = tp / (tp + fp + 1e-10)\n",
    "        recall = tp / tp[-1] if tp[-1] != 0 else np.zeros_like(tp)\n",
    "        \n",
    "        # Calculate AUPRC using trapezoidal rule\n",
    "        auprc = np.trapezoid(precision, recall)\n",
    "        auprc_per_class.append(auprc)\n",
    "    \n",
    "    return np.mean(auprc_per_class)"
   ]
  },
  {
   "cell_type": "code",
   "execution_count": 20,
   "metadata": {},
   "outputs": [
    {
     "name": "stdout",
     "output_type": "stream",
     "text": [
      "Training AUPRC (Scratch): 0.7071\n",
      "Testing AUPRC (Scratch): 0.6709\n"
     ]
    }
   ],
   "source": [
    "train_auprc = auprc_score_scratch(y_train.values, y_prob_train, num_classes)\n",
    "test_auprc = auprc_score_scratch(y_test.values, y_prob_test, num_classes)\n",
    "\n",
    "print(f\"Training AUPRC (Scratch): {train_auprc:.4f}\")\n",
    "print(f\"Testing AUPRC (Scratch): {test_auprc:.4f}\")"
   ]
  },
  {
   "cell_type": "markdown",
   "metadata": {},
   "source": [
    "### Explanation of Accuracy from Scratch\n",
    "\n",
    "This section explains the implementation of the accuracy metric from scratch.\n",
    "\n",
    "1. **Accuracy Formula:**\n",
    "   - Measures how many predictions are correct out of all predictions.\n",
    "   - Formula:\n",
    "     $$\n",
    "     \\text{Accuracy} = \\frac{\\text{Number of Correct Predictions}}{\\text{Total Number of Predictions}}\n",
    "     $$\n",
    "\n",
    "2. **Implementation Explanation:**\n",
    "   - Compares predicted labels (`y_pred`) with actual labels (`y_true`).\n",
    "   - Counts how many predictions are correct.\n",
    "   - Divides the number of correct predictions by the total number of predictions.\n",
    "\n",
    "3. **Example:**\n",
    "   - If the model predicts `[1, 2, 0, 3]` and the actual labels are `[1, 2, 1, 3]`, there are **3 correct predictions**.\n",
    "   - Accuracy = \\( \\frac{3}{4} = 0.75 \\) → **75%** accuracy.\n",
    "\n",
    "\n",
    "### Explanation of Precision from Scratch\n",
    "\n",
    "This section explains the implementation of the precision metric from scratch.\n",
    "\n",
    "1. **Precision Formula:**\n",
    "   - Measures how many predicted positives are actually correct.\n",
    "   - Formula:\n",
    "     $$\n",
    "     \\text{Precision} = \\frac{\\text{True Positives (TP)}}{\\text{True Positives (TP)} + \\text{False Positives (FP)}}\n",
    "     $$\n",
    "\n",
    "2. **Implementation Explanation:**\n",
    "   - For each class, counts how many predictions were correctly classified as positive.\n",
    "   - Divides the number of **True Positives (TP)** by the sum of **True Positives (TP)** and **False Positives (FP)**.\n",
    "   - Averages the precision scores across all classes (Macro Precision).\n",
    "\n",
    "3. **Example:**\n",
    "   - Suppose for **Class 1**: 8 were correctly predicted (**TP**) and 2 were wrongly predicted (**FP**).\n",
    "   - Precision = \\( \\frac{8}{8 + 2} = 0.8 \\) → **80%** precision.\n",
    "\n",
    "\n",
    "### Explanation of Recall (Sensitivity) from Scratch\n",
    "\n",
    "This section explains the implementation of the recall (sensitivity) metric from scratch.\n",
    "\n",
    "1. **Recall Formula:**\n",
    "   - Measures how many actual positives were correctly identified.\n",
    "   - Formula:\n",
    "     $$\n",
    "     \\text{Recall} = \\frac{\\text{True Positives (TP)}}{\\text{True Positives (TP)} + \\text{False Negatives (FN)}}\n",
    "     $$\n",
    "\n",
    "2. **Implementation Explanation:**\n",
    "   - For each class, counts how many actual positive instances were correctly predicted (**True Positives**).\n",
    "   - Divides the number of **True Positives (TP)** by the sum of **True Positives (TP)** and **False Negatives (FN)**.\n",
    "   - Averages the recall scores across all classes (Macro Recall).\n",
    "\n",
    "3. **Example:**\n",
    "   - Suppose for **Class 1**: 8 were correctly predicted (**TP**) and 2 were missed (**FN**).\n",
    "   - Recall = \\( \\frac{8}{8 + 2} = 0.8 \\) → **80%** recall.\n",
    "\n",
    "\n",
    "### Explanation of F1-Score (F-Measure) from Scratch\n",
    "\n",
    "This section explains the implementation of the F1-Score (F-Measure) metric from scratch.\n",
    "\n",
    "1. **F1-Score Formula:**\n",
    "   - The F1-Score balances **Precision** and **Recall** by taking their harmonic mean.\n",
    "   - Formula:\n",
    "     $$\n",
    "     \\text{F1-Score} = 2 \\times \\frac{\\text{Precision} \\times \\text{Recall}}{\\text{Precision} + \\text{Recall}}\n",
    "     $$\n",
    "\n",
    "2. **Implementation Explanation:**\n",
    "   - Computes **Precision** and **Recall** using the previously defined functions.\n",
    "   - Applies the harmonic mean formula to balance both metrics.\n",
    "   - If both Precision and Recall are zero, the F1-Score is set to zero.\n",
    "\n",
    "3. **Example:**\n",
    "   - Suppose for **Class 1**: Precision = 0.8 and Recall = 0.75.\n",
    "   - F1-Score = \\( 2 \\times \\frac{0.8 \\times 0.75}{0.8 + 0.75} \\approx 0.774 \\).\n",
    "\n",
    "\n",
    "### Explanation of AUC (ROC) from Scratch\n",
    "\n",
    "This section explains the implementation of the AUC (Area Under the ROC Curve) metric from scratch.\n",
    "\n",
    "1. **AUC Formula:**\n",
    "   - Measures how well the model distinguishes between classes.\n",
    "   - Formula (Integral of the ROC Curve):\n",
    "     $$\n",
    "     \\text{AUC} = \\int_{0}^{1} \\text{TPR}(\\text{FPR}) \\, d\\text{FPR}\n",
    "     $$\n",
    "   - TPR: True Positive Rate, FPR: False Positive Rate.\n",
    "\n",
    "2. **Implementation Explanation:**\n",
    "   - Converts the true labels to a binary format for each class.\n",
    "   - Sorts predicted probabilities and aligns them with true labels.\n",
    "   - Calculates **TPR** and **FPR** at various thresholds.\n",
    "   - Uses the **trapezoidal rule** to approximate the area under the ROC curve.\n",
    "\n",
    "3. **Example:**\n",
    "   - Suppose for **Class 1**, the ROC curve is plotted, and the area under the curve is calculated as **0.85**.\n",
    "   - AUC = **0.85** → The model has an **85% chance** of correctly distinguishing between classes.\n",
    "\n",
    "\n",
    "### Explanation of AUPRC (Area Under the Precision-Recall Curve) from Scratch\n",
    "\n",
    "This section explains the implementation of the AUPRC (Area Under the Precision-Recall Curve) metric from scratch.\n",
    "\n",
    "1. **AUPRC Formula:**\n",
    "   - Measures the balance between **Precision** and **Recall** across different thresholds.\n",
    "   - Formula (Integral of the Precision-Recall Curve):\n",
    "     $$\n",
    "     \\text{AUPRC} = \\int_{0}^{1} \\text{Precision}(\\text{Recall}) \\, d\\text{Recall}\n",
    "     $$\n",
    "\n",
    "2. **Implementation Explanation:**\n",
    "   - Converts the true labels to binary for each class.\n",
    "   - Sorts predicted probabilities and aligns them with true labels.\n",
    "   - Calculates **Precision** and **Recall** at various thresholds.\n",
    "   - Uses the **trapezoidal rule** to approximate the area under the Precision-Recall curve.\n",
    "\n",
    "3. **Example:**\n",
    "   - Suppose for **Class 1**, the Precision-Recall curve yields an area of **0.78**.\n",
    "   - AUPRC = **0.78** → The model maintains a **78% balance** between precision and recall across thresholds.\n",
    "\n"
   ]
  },
  {
   "cell_type": "code",
   "execution_count": 21,
   "metadata": {},
   "outputs": [
    {
     "data": {
      "image/png": "[encoded data removed]",
      "text/plain": [
       "<Figure size 640x480 with 1 Axes>"
      ]
     },
     "metadata": {},
     "output_type": "display_data"
    }
   ],
   "source": [
    "# LIME Explanation\n",
    "explainer = LimeTabularExplainer(X_train, feature_names=features, class_names=[str(i) for i in range(num_classes)], discretize_continuous=True)\n",
    "\n",
    "# Explain a single prediction\n",
    "idx = 0  # Index of the sample to explain\n",
    "exp = explainer.explain_instance(X_test[idx], lambda x: predict(x, W, b)[1], num_features=len(features))\n",
    "\n",
    "# LIME Visualization\n",
    "# exp.show_in_notebook(show_table=True, show_all=False)\n",
    "exp.as_pyplot_figure()\n",
    "plt.show()"
   ]
  },
  {
   "cell_type": "markdown",
   "metadata": {},
   "source": [
    "# 📊 Explanation of the LIME Plot\n",
    "\n",
    "\n",
    "This section explains how LIME interprets the Logistic Regression model prediction for a specific instance.\n",
    "\n",
    "1. **Prediction Probabilities:**\n",
    "   - The model predicts the likelihood of each class (0, 1, 2, 3).\n",
    "   - Example: Class 2 has the highest probability (48%), making it the predicted class.\n",
    "\n",
    "2. **Feature Contributions:**\n",
    "   - **Green Bars (Positive Influence):** Features pushing the prediction towards the predicted class.\n",
    "     - Example: `temp` significantly increases the prediction probability for Class 2.\n",
    "   - **Red Bars (Negative Influence):** Features pulling the prediction away from the predicted class.\n",
    "     - Example: `windspeed` and `weathersit` decrease the likelihood of predicting Class 2.\n",
    "\n",
    "3. **Feature Values:**\n",
    "   - Shows actual feature values for the explained instance.\n",
    "   - Example: High `temp` (0.72) and moderate `cnt` (0.35) support the prediction, while low `windspeed` (-0.29) opposes it.\n",
    "\n",
    "4. **Overall Interpretation:**\n",
    "   - The model predicts **Class 2** mainly due to high **temperature** and moderate **count**.\n",
    "   - Negative influences like **windspeed** and **weathersit** were not strong enough to change the prediction.\n"
   ]
  },
  {
   "cell_type": "code",
   "execution_count": 22,
   "metadata": {},
   "outputs": [],
   "source": [
    "# Standard Deviation for Metrics\n",
    "def compute_std_metric(y_true, y_pred):\n",
    "    correct_predictions = (y_true == y_pred).astype(int)\n",
    "    return np.std(correct_predictions)\n"
   ]
  },
  {
   "cell_type": "code",
   "execution_count": 23,
   "metadata": {},
   "outputs": [
    {
     "name": "stdout",
     "output_type": "stream",
     "text": [
      "Training Accuracy: 0.6524 ± 0.4762\n",
      "Testing Accuracy: 0.6463 ± 0.4781\n"
     ]
    }
   ],
   "source": [
    "# Compute Accuracy and Standard Deviation\n",
    "train_accuracy = np.mean(y_pred_train == y_train)\n",
    "test_accuracy = np.mean(y_pred_test == y_test)\n",
    "train_std = compute_std_metric(y_train.values, y_pred_train)\n",
    "test_std = compute_std_metric(y_test.values, y_pred_test)\n",
    "\n",
    "print(f\"Training Accuracy: {train_accuracy:.4f} ± {train_std:.4f}\")\n",
    "print(f\"Testing Accuracy: {test_accuracy:.4f} ± {test_std:.4f}\")"
   ]
  },
  {
   "cell_type": "code",
   "execution_count": 24,
   "metadata": {},
   "outputs": [
    {
     "data": {
      "image/png": "[encoded data removed]",
      "text/plain": [
       "<Figure size 1200x600 with 1 Axes>"
      ]
     },
     "metadata": {},
     "output_type": "display_data"
    }
   ],
   "source": [
    "# Residuals Calculation\n",
    "def compute_residuals(y_true, y_prob):\n",
    "    y_true_one_hot = one_hot_encode(y_true, y_prob.shape[1])\n",
    "    residuals = y_prob - y_true_one_hot\n",
    "    return residuals.flatten()\n",
    "\n",
    "train_residuals = compute_residuals(y_train.values, y_prob_train)\n",
    "test_residuals = compute_residuals(y_test.values, y_prob_test)\n",
    "\n",
    "# Plot Residuals Distribution\n",
    "plt.figure(figsize=(12, 6))\n",
    "plt.hist(train_residuals, bins=100, alpha=0.6, color='blue', density=True, label='Train Residuals')\n",
    "plt.hist(test_residuals, bins=100, alpha=0.6, color='orange', density=True, label='Test Residuals')\n",
    "sns.kdeplot(train_residuals, color='blue')\n",
    "sns.kdeplot(test_residuals, color='orange')\n",
    "plt.xlabel('Residuals')\n",
    "plt.ylabel('Frequency')\n",
    "plt.title('Residuals Distribution')\n",
    "plt.legend()\n",
    "plt.grid(True)\n",
    "plt.show()"
   ]
  },
  {
   "cell_type": "markdown",
   "metadata": {},
   "source": [
    "### Residuals Distribution Plot Explanation\n",
    "\n",
    "**Residuals** are the differences between the predicted probabilities and the actual one-hot encoded labels. They help in identifying how well the model predicts each class.\n",
    "\n",
    "#### 🔎 Plot Components:\n",
    "- **Blue Bars:** Residuals for the **training set**\n",
    "- **Orange Bars:** Residuals for the **testing set**\n",
    "- **Density Curves:** Show how the residuals are distributed.\n",
    "\n",
    "#### 📈 Interpretation:\n",
    "- **Sharp Peak at 0:** Most predictions are correct.\n",
    "- **Spread:** Wider spread indicates higher misclassification.\n",
    "- **Symmetry:** A balanced distribution suggests no model bias.\n",
    "- **Outliers:** Points far from zero indicate misclassifications.\n",
    "\n",
    "#### ⚠️ Insights:\n",
    "- If the **testing** residuals are more spread than **training**, the model might be overfitting.\n",
    "- A shift away from zero might indicate bias in predictions.\n"
   ]
  },
  {
   "cell_type": "code",
   "execution_count": 25,
   "metadata": {},
   "outputs": [
    {
     "name": "stdout",
     "output_type": "stream",
     "text": [
      "Training Metrics:\n",
      "Accuracy: 0.6523972602739726\n",
      "Precision (Macro): 0.6368152450635138\n",
      "Recall (Sensitivity): 0.6505300770138069\n",
      "F1-Score (Macro): 0.6435996050325526\n",
      "AUC (ROC): 0.8759121293566714\n",
      "AUPRC: 0.7071453505228316\n",
      "\n",
      "Testing Metrics:\n",
      "Accuracy: 0.6462585034013606\n",
      "Precision (Macro): 0.6248037676609105\n",
      "Recall (Sensitivity): 0.6446874506085032\n",
      "F1-Score (Macro): 0.6345898928753619\n",
      "AUC (ROC): 0.8705875413625292\n",
      "AUPRC: 0.670851019244788\n"
     ]
    }
   ],
   "source": [
    "print(\"Training Metrics:\")\n",
    "print(\"Accuracy:\", train_accuracy)\n",
    "print(\"Precision (Macro):\", train_precision)\n",
    "print(\"Recall (Sensitivity):\", train_recall)\n",
    "print(\"F1-Score (Macro):\", train_f1)\n",
    "print(\"AUC (ROC):\", train_auc)\n",
    "print(\"AUPRC:\", train_auprc)\n",
    "\n",
    "print(\"\\nTesting Metrics:\")\n",
    "print(\"Accuracy:\", test_accuracy)\n",
    "print(\"Precision (Macro):\", test_precision)\n",
    "print(\"Recall (Sensitivity):\", test_recall)\n",
    "print(\"F1-Score (Macro):\", test_f1)\n",
    "print(\"AUC (ROC):\", test_auc)\n",
    "print(\"AUPRC:\", test_auprc)"
   ]
  }
 ],
 "metadata": {
  "kernelspec": {
   "display_name": "Python 3",
   "language": "python",
   "name": "python3"
  },
  "language_info": {
   "codemirror_mode": {
    "name": "ipython",
    "version": 3
   },
   "file_extension": ".py",
   "mimetype": "text/x-python",
   "name": "python",
   "nbconvert_exporter": "python",
   "pygments_lexer": "ipython3",
   "version": "3.13.0"
  }
 },
 "nbformat": 4,
 "nbformat_minor": 2
}
